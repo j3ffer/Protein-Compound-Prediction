{
 "cells": [
  {
   "cell_type": "markdown",
   "metadata": {},
   "source": [
    "## Data exploration\n",
    "We load the necessary packages, load the data and print some summary statistics about the dataset"
   ]
  },
  {
   "cell_type": "code",
   "execution_count": 1,
   "metadata": {},
   "outputs": [
    {
     "name": "stderr",
     "output_type": "stream",
     "text": [
      "Using TensorFlow backend.\n"
     ]
    }
   ],
   "source": [
    "import numpy as np\n",
    "import pandas as pd\n",
    "import matplotlib.pyplot as plt\n",
    "import keras\n",
    "import seaborn as sns\n",
    "\n",
    "from sklearn.metrics import confusion_matrix\n",
    "from sklearn.model_selection import train_test_split\n",
    "\n",
    "import imblearn\n",
    "from imblearn.over_sampling import SMOTE\n",
    "from imblearn.under_sampling import RandomUnderSampler"
   ]
  },
  {
   "cell_type": "code",
   "execution_count": 2,
   "metadata": {},
   "outputs": [
    {
     "name": "stderr",
     "output_type": "stream",
     "text": [
      "c:\\users\\jaffer\\appdata\\local\\programs\\python\\python37\\lib\\site-packages\\IPython\\core\\interactiveshell.py:3051: DtypeWarning: Columns (0) have mixed types. Specify dtype option on import or set low_memory=False.\n",
      "  interactivity=interactivity, compiler=compiler, result=result)\n"
     ]
    }
   ],
   "source": [
    "df = pd.read_csv(\"practice_parted_1.csv\")"
   ]
  },
  {
   "cell_type": "code",
   "execution_count": 3,
   "metadata": {},
   "outputs": [
    {
     "data": {
      "text/html": [
       "<div>\n",
       "<style scoped>\n",
       "    .dataframe tbody tr th:only-of-type {\n",
       "        vertical-align: middle;\n",
       "    }\n",
       "\n",
       "    .dataframe tbody tr th {\n",
       "        vertical-align: top;\n",
       "    }\n",
       "\n",
       "    .dataframe thead th {\n",
       "        text-align: right;\n",
       "    }\n",
       "</style>\n",
       "<table border=\"1\" class=\"dataframe\">\n",
       "  <thead>\n",
       "    <tr style=\"text-align: right;\">\n",
       "      <th></th>\n",
       "      <th>0</th>\n",
       "      <th>1</th>\n",
       "      <th>2</th>\n",
       "      <th>3</th>\n",
       "      <th>4</th>\n",
       "      <th>5</th>\n",
       "      <th>6</th>\n",
       "      <th>7</th>\n",
       "      <th>8</th>\n",
       "      <th>9</th>\n",
       "      <th>...</th>\n",
       "      <th>1274</th>\n",
       "      <th>1275</th>\n",
       "      <th>1276</th>\n",
       "      <th>1277</th>\n",
       "      <th>1278</th>\n",
       "      <th>1279</th>\n",
       "      <th>1280</th>\n",
       "      <th>1281</th>\n",
       "      <th>1282</th>\n",
       "      <th>label</th>\n",
       "    </tr>\n",
       "  </thead>\n",
       "  <tbody>\n",
       "    <tr>\n",
       "      <th>0</th>\n",
       "      <td>176</td>\n",
       "      <td>1.0</td>\n",
       "      <td>0.0</td>\n",
       "      <td>0.0</td>\n",
       "      <td>0.0</td>\n",
       "      <td>0.0</td>\n",
       "      <td>0.0</td>\n",
       "      <td>0.0</td>\n",
       "      <td>0.0</td>\n",
       "      <td>0.0</td>\n",
       "      <td>...</td>\n",
       "      <td>0.000000</td>\n",
       "      <td>0.117043</td>\n",
       "      <td>0.000000</td>\n",
       "      <td>0.073922</td>\n",
       "      <td>0.000000</td>\n",
       "      <td>0.000000</td>\n",
       "      <td>0.228953</td>\n",
       "      <td>0.131417</td>\n",
       "      <td>CATD_HUMAN</td>\n",
       "      <td>0</td>\n",
       "    </tr>\n",
       "    <tr>\n",
       "      <th>1</th>\n",
       "      <td>4725</td>\n",
       "      <td>1.0</td>\n",
       "      <td>1.0</td>\n",
       "      <td>0.0</td>\n",
       "      <td>0.0</td>\n",
       "      <td>0.0</td>\n",
       "      <td>0.0</td>\n",
       "      <td>0.0</td>\n",
       "      <td>0.0</td>\n",
       "      <td>0.0</td>\n",
       "      <td>...</td>\n",
       "      <td>0.119675</td>\n",
       "      <td>0.115619</td>\n",
       "      <td>0.040568</td>\n",
       "      <td>0.109533</td>\n",
       "      <td>0.397566</td>\n",
       "      <td>0.231237</td>\n",
       "      <td>0.000000</td>\n",
       "      <td>0.194726</td>\n",
       "      <td>AMD_HUMAN</td>\n",
       "      <td>0</td>\n",
       "    </tr>\n",
       "    <tr>\n",
       "      <th>2</th>\n",
       "      <td>121304016</td>\n",
       "      <td>1.0</td>\n",
       "      <td>1.0</td>\n",
       "      <td>1.0</td>\n",
       "      <td>1.0</td>\n",
       "      <td>0.0</td>\n",
       "      <td>0.0</td>\n",
       "      <td>0.0</td>\n",
       "      <td>0.0</td>\n",
       "      <td>0.0</td>\n",
       "      <td>...</td>\n",
       "      <td>0.207746</td>\n",
       "      <td>0.200704</td>\n",
       "      <td>0.211268</td>\n",
       "      <td>0.126761</td>\n",
       "      <td>0.172535</td>\n",
       "      <td>0.000000</td>\n",
       "      <td>0.785211</td>\n",
       "      <td>0.676056</td>\n",
       "      <td>Q96DH9_HUMAN</td>\n",
       "      <td>0</td>\n",
       "    </tr>\n",
       "    <tr>\n",
       "      <th>3</th>\n",
       "      <td>27350</td>\n",
       "      <td>1.0</td>\n",
       "      <td>1.0</td>\n",
       "      <td>1.0</td>\n",
       "      <td>1.0</td>\n",
       "      <td>0.0</td>\n",
       "      <td>0.0</td>\n",
       "      <td>0.0</td>\n",
       "      <td>0.0</td>\n",
       "      <td>0.0</td>\n",
       "      <td>...</td>\n",
       "      <td>0.000000</td>\n",
       "      <td>0.000000</td>\n",
       "      <td>0.074534</td>\n",
       "      <td>0.089441</td>\n",
       "      <td>0.365217</td>\n",
       "      <td>0.141615</td>\n",
       "      <td>0.277019</td>\n",
       "      <td>0.238509</td>\n",
       "      <td>FGFR3_HUMAN</td>\n",
       "      <td>0</td>\n",
       "    </tr>\n",
       "    <tr>\n",
       "      <th>4</th>\n",
       "      <td>3736</td>\n",
       "      <td>1.0</td>\n",
       "      <td>1.0</td>\n",
       "      <td>1.0</td>\n",
       "      <td>0.0</td>\n",
       "      <td>0.0</td>\n",
       "      <td>0.0</td>\n",
       "      <td>0.0</td>\n",
       "      <td>0.0</td>\n",
       "      <td>0.0</td>\n",
       "      <td>...</td>\n",
       "      <td>0.211470</td>\n",
       "      <td>0.000000</td>\n",
       "      <td>0.071685</td>\n",
       "      <td>0.096774</td>\n",
       "      <td>0.000000</td>\n",
       "      <td>0.000000</td>\n",
       "      <td>0.199821</td>\n",
       "      <td>0.172043</td>\n",
       "      <td>AAPK1_HUMAN</td>\n",
       "      <td>0</td>\n",
       "    </tr>\n",
       "  </tbody>\n",
       "</table>\n",
       "<p>5 rows × 1284 columns</p>\n",
       "</div>"
      ],
      "text/plain": [
       "           0    1    2    3    4    5    6    7    8    9  ...      1274  \\\n",
       "0        176  1.0  0.0  0.0  0.0  0.0  0.0  0.0  0.0  0.0  ...  0.000000   \n",
       "1       4725  1.0  1.0  0.0  0.0  0.0  0.0  0.0  0.0  0.0  ...  0.119675   \n",
       "2  121304016  1.0  1.0  1.0  1.0  0.0  0.0  0.0  0.0  0.0  ...  0.207746   \n",
       "3      27350  1.0  1.0  1.0  1.0  0.0  0.0  0.0  0.0  0.0  ...  0.000000   \n",
       "4       3736  1.0  1.0  1.0  0.0  0.0  0.0  0.0  0.0  0.0  ...  0.211470   \n",
       "\n",
       "       1275      1276      1277      1278      1279      1280      1281  \\\n",
       "0  0.117043  0.000000  0.073922  0.000000  0.000000  0.228953  0.131417   \n",
       "1  0.115619  0.040568  0.109533  0.397566  0.231237  0.000000  0.194726   \n",
       "2  0.200704  0.211268  0.126761  0.172535  0.000000  0.785211  0.676056   \n",
       "3  0.000000  0.074534  0.089441  0.365217  0.141615  0.277019  0.238509   \n",
       "4  0.000000  0.071685  0.096774  0.000000  0.000000  0.199821  0.172043   \n",
       "\n",
       "           1282  label  \n",
       "0    CATD_HUMAN      0  \n",
       "1     AMD_HUMAN      0  \n",
       "2  Q96DH9_HUMAN      0  \n",
       "3   FGFR3_HUMAN      0  \n",
       "4   AAPK1_HUMAN      0  \n",
       "\n",
       "[5 rows x 1284 columns]"
      ]
     },
     "execution_count": 3,
     "metadata": {},
     "output_type": "execute_result"
    }
   ],
   "source": [
    "df.head()"
   ]
  },
  {
   "cell_type": "code",
   "execution_count": 4,
   "metadata": {},
   "outputs": [
    {
     "data": {
      "text/html": [
       "<div>\n",
       "<style scoped>\n",
       "    .dataframe tbody tr th:only-of-type {\n",
       "        vertical-align: middle;\n",
       "    }\n",
       "\n",
       "    .dataframe tbody tr th {\n",
       "        vertical-align: top;\n",
       "    }\n",
       "\n",
       "    .dataframe thead th {\n",
       "        text-align: right;\n",
       "    }\n",
       "</style>\n",
       "<table border=\"1\" class=\"dataframe\">\n",
       "  <thead>\n",
       "    <tr style=\"text-align: right;\">\n",
       "      <th></th>\n",
       "      <th>1</th>\n",
       "      <th>2</th>\n",
       "      <th>3</th>\n",
       "      <th>4</th>\n",
       "      <th>5</th>\n",
       "      <th>6</th>\n",
       "      <th>7</th>\n",
       "      <th>8</th>\n",
       "      <th>9</th>\n",
       "      <th>10</th>\n",
       "      <th>...</th>\n",
       "      <th>1273</th>\n",
       "      <th>1274</th>\n",
       "      <th>1275</th>\n",
       "      <th>1276</th>\n",
       "      <th>1277</th>\n",
       "      <th>1278</th>\n",
       "      <th>1279</th>\n",
       "      <th>1280</th>\n",
       "      <th>1281</th>\n",
       "      <th>label</th>\n",
       "    </tr>\n",
       "  </thead>\n",
       "  <tbody>\n",
       "    <tr>\n",
       "      <th>count</th>\n",
       "      <td>2335.000000</td>\n",
       "      <td>2335.000000</td>\n",
       "      <td>2335.000000</td>\n",
       "      <td>2335.000000</td>\n",
       "      <td>2335.0</td>\n",
       "      <td>2335.0</td>\n",
       "      <td>2335.0</td>\n",
       "      <td>2335.0</td>\n",
       "      <td>2335.000000</td>\n",
       "      <td>2335.000000</td>\n",
       "      <td>...</td>\n",
       "      <td>2335.000000</td>\n",
       "      <td>2335.000000</td>\n",
       "      <td>2335.000000</td>\n",
       "      <td>2335.000000</td>\n",
       "      <td>2335.000000</td>\n",
       "      <td>2335.000000</td>\n",
       "      <td>2335.000000</td>\n",
       "      <td>2335.000000</td>\n",
       "      <td>2335.000000</td>\n",
       "      <td>2335.000000</td>\n",
       "    </tr>\n",
       "    <tr>\n",
       "      <th>mean</th>\n",
       "      <td>0.973876</td>\n",
       "      <td>0.940043</td>\n",
       "      <td>0.781156</td>\n",
       "      <td>0.254818</td>\n",
       "      <td>0.0</td>\n",
       "      <td>0.0</td>\n",
       "      <td>0.0</td>\n",
       "      <td>0.0</td>\n",
       "      <td>0.009422</td>\n",
       "      <td>0.983298</td>\n",
       "      <td>...</td>\n",
       "      <td>0.158858</td>\n",
       "      <td>0.116345</td>\n",
       "      <td>0.148151</td>\n",
       "      <td>0.084518</td>\n",
       "      <td>0.083305</td>\n",
       "      <td>0.200876</td>\n",
       "      <td>0.091321</td>\n",
       "      <td>0.211619</td>\n",
       "      <td>0.194758</td>\n",
       "      <td>0.293362</td>\n",
       "    </tr>\n",
       "    <tr>\n",
       "      <th>std</th>\n",
       "      <td>0.159539</td>\n",
       "      <td>0.237458</td>\n",
       "      <td>0.413551</td>\n",
       "      <td>0.435852</td>\n",
       "      <td>0.0</td>\n",
       "      <td>0.0</td>\n",
       "      <td>0.0</td>\n",
       "      <td>0.0</td>\n",
       "      <td>0.096629</td>\n",
       "      <td>0.128181</td>\n",
       "      <td>...</td>\n",
       "      <td>0.155495</td>\n",
       "      <td>0.127137</td>\n",
       "      <td>0.150519</td>\n",
       "      <td>0.089184</td>\n",
       "      <td>0.082843</td>\n",
       "      <td>0.162225</td>\n",
       "      <td>0.158752</td>\n",
       "      <td>0.241266</td>\n",
       "      <td>0.168846</td>\n",
       "      <td>0.455400</td>\n",
       "    </tr>\n",
       "    <tr>\n",
       "      <th>min</th>\n",
       "      <td>0.000000</td>\n",
       "      <td>0.000000</td>\n",
       "      <td>0.000000</td>\n",
       "      <td>0.000000</td>\n",
       "      <td>0.0</td>\n",
       "      <td>0.0</td>\n",
       "      <td>0.0</td>\n",
       "      <td>0.0</td>\n",
       "      <td>0.000000</td>\n",
       "      <td>0.000000</td>\n",
       "      <td>...</td>\n",
       "      <td>0.000000</td>\n",
       "      <td>0.000000</td>\n",
       "      <td>0.000000</td>\n",
       "      <td>0.000000</td>\n",
       "      <td>0.000000</td>\n",
       "      <td>0.000000</td>\n",
       "      <td>0.000000</td>\n",
       "      <td>0.000000</td>\n",
       "      <td>0.000000</td>\n",
       "      <td>0.000000</td>\n",
       "    </tr>\n",
       "    <tr>\n",
       "      <th>25%</th>\n",
       "      <td>1.000000</td>\n",
       "      <td>1.000000</td>\n",
       "      <td>1.000000</td>\n",
       "      <td>0.000000</td>\n",
       "      <td>0.0</td>\n",
       "      <td>0.0</td>\n",
       "      <td>0.0</td>\n",
       "      <td>0.0</td>\n",
       "      <td>0.000000</td>\n",
       "      <td>1.000000</td>\n",
       "      <td>...</td>\n",
       "      <td>0.062958</td>\n",
       "      <td>0.000000</td>\n",
       "      <td>0.000000</td>\n",
       "      <td>0.029587</td>\n",
       "      <td>0.037578</td>\n",
       "      <td>0.100000</td>\n",
       "      <td>0.000000</td>\n",
       "      <td>0.000000</td>\n",
       "      <td>0.076934</td>\n",
       "      <td>0.000000</td>\n",
       "    </tr>\n",
       "    <tr>\n",
       "      <th>50%</th>\n",
       "      <td>1.000000</td>\n",
       "      <td>1.000000</td>\n",
       "      <td>1.000000</td>\n",
       "      <td>0.000000</td>\n",
       "      <td>0.0</td>\n",
       "      <td>0.0</td>\n",
       "      <td>0.0</td>\n",
       "      <td>0.0</td>\n",
       "      <td>0.000000</td>\n",
       "      <td>1.000000</td>\n",
       "      <td>...</td>\n",
       "      <td>0.133333</td>\n",
       "      <td>0.108856</td>\n",
       "      <td>0.123913</td>\n",
       "      <td>0.069930</td>\n",
       "      <td>0.070866</td>\n",
       "      <td>0.183178</td>\n",
       "      <td>0.000000</td>\n",
       "      <td>0.183388</td>\n",
       "      <td>0.154291</td>\n",
       "      <td>0.000000</td>\n",
       "    </tr>\n",
       "    <tr>\n",
       "      <th>75%</th>\n",
       "      <td>1.000000</td>\n",
       "      <td>1.000000</td>\n",
       "      <td>1.000000</td>\n",
       "      <td>1.000000</td>\n",
       "      <td>0.0</td>\n",
       "      <td>0.0</td>\n",
       "      <td>0.0</td>\n",
       "      <td>0.0</td>\n",
       "      <td>0.000000</td>\n",
       "      <td>1.000000</td>\n",
       "      <td>...</td>\n",
       "      <td>0.221649</td>\n",
       "      <td>0.190118</td>\n",
       "      <td>0.213884</td>\n",
       "      <td>0.120000</td>\n",
       "      <td>0.116129</td>\n",
       "      <td>0.283706</td>\n",
       "      <td>0.170149</td>\n",
       "      <td>0.310802</td>\n",
       "      <td>0.261759</td>\n",
       "      <td>1.000000</td>\n",
       "    </tr>\n",
       "    <tr>\n",
       "      <th>max</th>\n",
       "      <td>1.000000</td>\n",
       "      <td>1.000000</td>\n",
       "      <td>1.000000</td>\n",
       "      <td>1.000000</td>\n",
       "      <td>0.0</td>\n",
       "      <td>0.0</td>\n",
       "      <td>0.0</td>\n",
       "      <td>0.0</td>\n",
       "      <td>1.000000</td>\n",
       "      <td>1.000000</td>\n",
       "      <td>...</td>\n",
       "      <td>1.000000</td>\n",
       "      <td>1.000000</td>\n",
       "      <td>1.000000</td>\n",
       "      <td>1.000000</td>\n",
       "      <td>1.000000</td>\n",
       "      <td>1.000000</td>\n",
       "      <td>1.000000</td>\n",
       "      <td>1.000000</td>\n",
       "      <td>1.000000</td>\n",
       "      <td>1.000000</td>\n",
       "    </tr>\n",
       "  </tbody>\n",
       "</table>\n",
       "<p>8 rows × 1282 columns</p>\n",
       "</div>"
      ],
      "text/plain": [
       "                 1            2            3            4       5       6  \\\n",
       "count  2335.000000  2335.000000  2335.000000  2335.000000  2335.0  2335.0   \n",
       "mean      0.973876     0.940043     0.781156     0.254818     0.0     0.0   \n",
       "std       0.159539     0.237458     0.413551     0.435852     0.0     0.0   \n",
       "min       0.000000     0.000000     0.000000     0.000000     0.0     0.0   \n",
       "25%       1.000000     1.000000     1.000000     0.000000     0.0     0.0   \n",
       "50%       1.000000     1.000000     1.000000     0.000000     0.0     0.0   \n",
       "75%       1.000000     1.000000     1.000000     1.000000     0.0     0.0   \n",
       "max       1.000000     1.000000     1.000000     1.000000     0.0     0.0   \n",
       "\n",
       "            7       8            9           10  ...         1273  \\\n",
       "count  2335.0  2335.0  2335.000000  2335.000000  ...  2335.000000   \n",
       "mean      0.0     0.0     0.009422     0.983298  ...     0.158858   \n",
       "std       0.0     0.0     0.096629     0.128181  ...     0.155495   \n",
       "min       0.0     0.0     0.000000     0.000000  ...     0.000000   \n",
       "25%       0.0     0.0     0.000000     1.000000  ...     0.062958   \n",
       "50%       0.0     0.0     0.000000     1.000000  ...     0.133333   \n",
       "75%       0.0     0.0     0.000000     1.000000  ...     0.221649   \n",
       "max       0.0     0.0     1.000000     1.000000  ...     1.000000   \n",
       "\n",
       "              1274         1275         1276         1277         1278  \\\n",
       "count  2335.000000  2335.000000  2335.000000  2335.000000  2335.000000   \n",
       "mean      0.116345     0.148151     0.084518     0.083305     0.200876   \n",
       "std       0.127137     0.150519     0.089184     0.082843     0.162225   \n",
       "min       0.000000     0.000000     0.000000     0.000000     0.000000   \n",
       "25%       0.000000     0.000000     0.029587     0.037578     0.100000   \n",
       "50%       0.108856     0.123913     0.069930     0.070866     0.183178   \n",
       "75%       0.190118     0.213884     0.120000     0.116129     0.283706   \n",
       "max       1.000000     1.000000     1.000000     1.000000     1.000000   \n",
       "\n",
       "              1279         1280         1281        label  \n",
       "count  2335.000000  2335.000000  2335.000000  2335.000000  \n",
       "mean      0.091321     0.211619     0.194758     0.293362  \n",
       "std       0.158752     0.241266     0.168846     0.455400  \n",
       "min       0.000000     0.000000     0.000000     0.000000  \n",
       "25%       0.000000     0.000000     0.076934     0.000000  \n",
       "50%       0.000000     0.183388     0.154291     0.000000  \n",
       "75%       0.170149     0.310802     0.261759     1.000000  \n",
       "max       1.000000     1.000000     1.000000     1.000000  \n",
       "\n",
       "[8 rows x 1282 columns]"
      ]
     },
     "execution_count": 4,
     "metadata": {},
     "output_type": "execute_result"
    }
   ],
   "source": [
    "df.describe()"
   ]
  },
  {
   "cell_type": "code",
   "execution_count": 5,
   "metadata": {},
   "outputs": [
    {
     "data": {
      "text/plain": [
       "<matplotlib.axes._subplots.AxesSubplot at 0xf0932a7788>"
      ]
     },
     "execution_count": 5,
     "metadata": {},
     "output_type": "execute_result"
    },
    {
     "data": {
      "image/png": "[encoded data removed]",
      "text/plain": [
       "<Figure size 432x288 with 1 Axes>"
      ]
     },
     "metadata": {
      "needs_background": "light"
     },
     "output_type": "display_data"
    }
   ],
   "source": [
    "#The dataset is imbalanced. The occurences where the reaction is positive (i.e label = 1) are much less than 0.\n",
    "df['label'].value_counts().plot(kind = 'bar')"
   ]
  },
  {
   "cell_type": "markdown",
   "metadata": {},
   "source": [
    "## Synthetic creation of data\n",
    "Because the data is very little in volume and unbalanced, the following strategy is proposed:\n",
    "* separate 15% of the data for testing of the algorithm. It will not be used for learning but rather to evaluate how well the model generalizes on new unseen data\n",
    "* separate another 30% of the rest of the data for validation purposes. This is crucial for the training part and is such a big chunk because we're going to synthetically increase the amount of training data. However, the validation data is used for the optimization of the training loss and it is crucial this data is real\n",
    "* the rest of the data is synthetically increased in volume by utilizing the SMOTE technique (https://en.wikipedia.org/wiki/Oversampling_and_undersampling_in_data_analysis#SMOTE). First we oversample the minority class by the desired ration and then slightly undersample the majority class as it is stated as best practice and helps for robustness of the training."
   ]
  },
  {
   "cell_type": "code",
   "execution_count": 6,
   "metadata": {},
   "outputs": [],
   "source": [
    "#We are splitting the data into train and test chunks. The test sample is 15% of the overall data and it was acquired \n",
    "#by performing stratified sampling from the overall data. This means that the ratio of 0 and 1 is kept in the test\n",
    "#as it is in the main data\n",
    "np.random.seed(11)\n",
    "X, x_test, Y, y_test = train_test_split(df.loc[:, df.columns != 'label'], df['label'],\n",
    "                                        test_size = 0.15, shuffle = True,\n",
    "                                        random_state = 12,\n",
    "                                        stratify = df['label']\n",
    "                                       )"
   ]
  },
  {
   "cell_type": "code",
   "execution_count": 7,
   "metadata": {},
   "outputs": [],
   "source": [
    "#Split the validation data\n",
    "X, x_val, Y, y_val = train_test_split(X, Y, \n",
    "                                      test_size = 0.3, shuffle = True,\n",
    "                                      random_state = 12,\n",
    "                                      stratify = Y\n",
    "                                      )"
   ]
  },
  {
   "cell_type": "code",
   "execution_count": 8,
   "metadata": {},
   "outputs": [],
   "source": [
    "# Remove compound and protein names from train, test and validation datasets and store them separately\n",
    "X_names = X[['0', '1282']]\n",
    "X = X.drop(['0', '1282'], axis = 1)\n",
    "x_test_names = x_test[['0', '1282']]\n",
    "x_test = x_test.drop(['0', '1282'], axis = 1)\n",
    "x_val_names = x_val[['0', '1282']]\n",
    "x_val = x_val.drop(['0', '1282'], axis = 1)"
   ]
  },
  {
   "cell_type": "code",
   "execution_count": 9,
   "metadata": {},
   "outputs": [],
   "source": [
    "#We are performing oversampling by the SMOTE methodology. This means we're artificially creating rows of data\n",
    "#with label 1 that have similar features to the real data\n",
    "oversample = SMOTE(sampling_strategy=0.7)\n",
    "X, Y = oversample.fit_resample(X, Y)\n",
    "\n",
    "#We are a;sp undersampling the rows with label 0 for regularization purposes.\n",
    "undersample = RandomUnderSampler(sampling_strategy=0.9)\n",
    "X, Y = undersample.fit_resample(X, Y)"
   ]
  },
  {
   "cell_type": "code",
   "execution_count": 10,
   "metadata": {},
   "outputs": [
    {
     "data": {
      "text/plain": [
       "<matplotlib.axes._subplots.AxesSubplot at 0xf09335dfc8>"
      ]
     },
     "execution_count": 10,
     "metadata": {},
     "output_type": "execute_result"
    },
    {
     "data": {
      "image/png": "[encoded data removed]",
      "text/plain": [
       "<Figure size 432x288 with 1 Axes>"
      ]
     },
     "metadata": {
      "needs_background": "light"
     },
     "output_type": "display_data"
    }
   ],
   "source": [
    "# The dataset is more balanced after over- and undersampling.\n",
    "Y.value_counts().plot(kind = 'bar')"
   ]
  },
  {
   "cell_type": "markdown",
   "metadata": {},
   "source": [
    "### Model architecture\n",
    "It is a deep neural network with 2.7mil parameters and Dropout layers for regularization purposes. \n",
    "* Official Keras site: https://keras.io/\n",
    "* Info on Dropout: https://en.wikipedia.org/wiki/Dropout_(neural_networks)"
   ]
  },
  {
   "cell_type": "code",
   "execution_count": 11,
   "metadata": {},
   "outputs": [
    {
     "name": "stdout",
     "output_type": "stream",
     "text": [
      "Model: \"sequential_1\"\n",
      "_________________________________________________________________\n",
      "Layer (type)                 Output Shape              Param #   \n",
      "=================================================================\n",
      "dense_1 (Dense)              (None, 1024)              1312768   \n",
      "_________________________________________________________________\n",
      "dense_2 (Dense)              (None, 768)               787200    \n",
      "_________________________________________________________________\n",
      "dropout_1 (Dropout)          (None, 768)               0         \n",
      "_________________________________________________________________\n",
      "dense_3 (Dense)              (None, 512)               393728    \n",
      "_________________________________________________________________\n",
      "dropout_2 (Dropout)          (None, 512)               0         \n",
      "_________________________________________________________________\n",
      "dense_4 (Dense)              (None, 256)               131328    \n",
      "_________________________________________________________________\n",
      "dropout_3 (Dropout)          (None, 256)               0         \n",
      "_________________________________________________________________\n",
      "dense_5 (Dense)              (None, 128)               32896     \n",
      "_________________________________________________________________\n",
      "dropout_4 (Dropout)          (None, 128)               0         \n",
      "_________________________________________________________________\n",
      "dense_6 (Dense)              (None, 128)               16512     \n",
      "_________________________________________________________________\n",
      "dropout_5 (Dropout)          (None, 128)               0         \n",
      "_________________________________________________________________\n",
      "dense_7 (Dense)              (None, 128)               16512     \n",
      "_________________________________________________________________\n",
      "dropout_6 (Dropout)          (None, 128)               0         \n",
      "_________________________________________________________________\n",
      "dense_8 (Dense)              (None, 1)                 129       \n",
      "=================================================================\n",
      "Total params: 2,691,073\n",
      "Trainable params: 2,691,073\n",
      "Non-trainable params: 0\n",
      "_________________________________________________________________\n"
     ]
    }
   ],
   "source": [
    "model = keras.Sequential()\n",
    "model.add(keras.layers.Dense(1024, activation = 'relu', input_shape = (1281, )))\n",
    "model.add(keras.layers.Dense(768, activation = 'relu'))\n",
    "model.add(keras.layers.Dropout(rate = 0.5))\n",
    "model.add(keras.layers.Dense(512, activation = 'relu'))\n",
    "model.add(keras.layers.Dropout(rate = 0.5))\n",
    "model.add(keras.layers.Dense(256, activation = 'relu'))\n",
    "model.add(keras.layers.Dropout(rate = 0.5))\n",
    "model.add(keras.layers.Dense(128, activation = 'relu'))\n",
    "model.add(keras.layers.Dropout(rate = 0.5))\n",
    "model.add(keras.layers.Dense(128, activation = 'relu'))\n",
    "model.add(keras.layers.Dropout(rate = 0.5))\n",
    "model.add(keras.layers.Dense(128, activation = 'relu'))\n",
    "model.add(keras.layers.Dropout(rate = 0.5))\n",
    "model.add(keras.layers.Dense(1, activation = 'sigmoid'))\n",
    "model.summary()"
   ]
  },
  {
   "cell_type": "markdown",
   "metadata": {},
   "source": [
    "### Compiling the model\n",
    "We use an Adam optimizer and binary crossentropy loss since it's a binary classification problem. The learning rate of the optimizer is important here as it allows Adam to gradually learn and reach optimized state. If the learning rate is big, it might over-reach and \"jump over\" the desired minima. Infor on Adam: https://machinelearningmastery.com/adam-optimization-algorithm-for-deep-learning/"
   ]
  },
  {
   "cell_type": "code",
   "execution_count": 12,
   "metadata": {},
   "outputs": [],
   "source": [
    "METRICS = [\n",
    "      keras.metrics.TruePositives(name='tp'),\n",
    "      keras.metrics.FalsePositives(name='fp'),\n",
    "      keras.metrics.TrueNegatives(name='tn'),\n",
    "      keras.metrics.FalseNegatives(name='fn'), \n",
    "      keras.metrics.BinaryAccuracy(name='accuracy'),\n",
    "      keras.metrics.Precision(name='precision'),\n",
    "      keras.metrics.Recall(name='recall'),\n",
    "      keras.metrics.AUC(name='auc'),\n",
    "]\n",
    "\n",
    "model.compile(optimizer = keras.optimizers.Adam(learning_rate=1e-4),\n",
    "              loss = 'binary_crossentropy',\n",
    "              metrics = METRICS\n",
    "             )"
   ]
  },
  {
   "cell_type": "markdown",
   "metadata": {},
   "source": [
    "### Training the model \n",
    "We're training it for 40 epochs, which means there are 40 passes through the data which are used by adam to optimize the loss functuon. The goal is to minimize the loss function; basically the lower the loss function, the closer are the predictions to the thruth. We also define a validation split of 20% which is used for evaluation of the model while it is training and use it to improve the model."
   ]
  },
  {
   "cell_type": "code",
   "execution_count": 13,
   "metadata": {},
   "outputs": [
    {
     "name": "stdout",
     "output_type": "stream",
     "text": [
      "Train on 1448 samples, validate on 596 samples\n",
      "Epoch 1/40\n",
      "1448/1448 [==============================] - 8s 5ms/step - loss: 0.7149 - tp: 412.0000 - fp: 409.0000 - tn: 353.0000 - fn: 274.0000 - accuracy: 0.5283 - precision: 0.5018 - recall: 0.6006 - auc: 0.5294 - val_loss: 0.6774 - val_tp: 0.0000e+00 - val_fp: 0.0000e+00 - val_tn: 421.0000 - val_fn: 175.0000 - val_accuracy: 0.7064 - val_precision: 0.0000e+00 - val_recall: 0.0000e+00 - val_auc: 0.5482\n",
      "Epoch 2/40\n",
      "1448/1448 [==============================] - 6s 4ms/step - loss: 0.7134 - tp: 335.0000 - fp: 367.0000 - tn: 395.0000 - fn: 351.0000 - accuracy: 0.5041 - precision: 0.4772 - recall: 0.4883 - auc: 0.5109 - val_loss: 0.6815 - val_tp: 58.0000 - val_fp: 30.0000 - val_tn: 391.0000 - val_fn: 117.0000 - val_accuracy: 0.7534 - val_precision: 0.6591 - val_recall: 0.3314 - val_auc: 0.6484\n",
      "Epoch 3/40\n",
      "1448/1448 [==============================] - 7s 5ms/step - loss: 0.7036 - tp: 336.0000 - fp: 371.0000 - tn: 391.0000 - fn: 350.0000 - accuracy: 0.5021 - precision: 0.4752 - recall: 0.4898 - auc: 0.5094 - val_loss: 0.6748 - val_tp: 53.0000 - val_fp: 8.0000 - val_tn: 413.0000 - val_fn: 122.0000 - val_accuracy: 0.7819 - val_precision: 0.8689 - val_recall: 0.3029 - val_auc: 0.6808\n",
      "Epoch 4/40\n",
      "1448/1448 [==============================] - 7s 5ms/step - loss: 0.7008 - tp: 326.0000 - fp: 334.0000 - tn: 428.0000 - fn: 360.0000 - accuracy: 0.5207 - precision: 0.4939 - recall: 0.4752 - auc: 0.5160 - val_loss: 0.6729 - val_tp: 27.0000 - val_fp: 1.0000 - val_tn: 420.0000 - val_fn: 148.0000 - val_accuracy: 0.7500 - val_precision: 0.9643 - val_recall: 0.1543 - val_auc: 0.7230\n",
      "Epoch 5/40\n",
      "1448/1448 [==============================] - 7s 5ms/step - loss: 0.7007 - tp: 325.0000 - fp: 304.0000 - tn: 458.0000 - fn: 361.0000 - accuracy: 0.5407 - precision: 0.5167 - recall: 0.4738 - auc: 0.5247 - val_loss: 0.6556 - val_tp: 15.0000 - val_fp: 3.0000 - val_tn: 418.0000 - val_fn: 160.0000 - val_accuracy: 0.7265 - val_precision: 0.8333 - val_recall: 0.0857 - val_auc: 0.7277\n",
      "Epoch 6/40\n",
      "1448/1448 [==============================] - 7s 5ms/step - loss: 0.7020 - tp: 294.0000 - fp: 310.0000 - tn: 452.0000 - fn: 392.0000 - accuracy: 0.5152 - precision: 0.4868 - recall: 0.4286 - auc: 0.5128 - val_loss: 0.6553 - val_tp: 52.0000 - val_fp: 4.0000 - val_tn: 417.0000 - val_fn: 123.0000 - val_accuracy: 0.7869 - val_precision: 0.9286 - val_recall: 0.2971 - val_auc: 0.7270\n",
      "Epoch 7/40\n",
      "1448/1448 [==============================] - 7s 5ms/step - loss: 0.6904 - tp: 289.0000 - fp: 272.0000 - tn: 490.0000 - fn: 397.0000 - accuracy: 0.5380 - precision: 0.5152 - recall: 0.4213 - auc: 0.5577 - val_loss: 0.6487 - val_tp: 54.0000 - val_fp: 4.0000 - val_tn: 417.0000 - val_fn: 121.0000 - val_accuracy: 0.7903 - val_precision: 0.9310 - val_recall: 0.3086 - val_auc: 0.7157\n",
      "Epoch 8/40\n",
      "1448/1448 [==============================] - 8s 5ms/step - loss: 0.6898 - tp: 297.0000 - fp: 253.0000 - tn: 509.0000 - fn: 389.0000 - accuracy: 0.5566 - precision: 0.5400 - recall: 0.4329 - auc: 0.5612 - val_loss: 0.6485 - val_tp: 61.0000 - val_fp: 15.0000 - val_tn: 406.0000 - val_fn: 114.0000 - val_accuracy: 0.7836 - val_precision: 0.8026 - val_recall: 0.3486 - val_auc: 0.7317\n",
      "Epoch 9/40\n",
      "1448/1448 [==============================] - 8s 5ms/step - loss: 0.6841 - tp: 305.0000 - fp: 264.0000 - tn: 498.0000 - fn: 381.0000 - accuracy: 0.5546 - precision: 0.5360 - recall: 0.4446 - auc: 0.5763 - val_loss: 0.6454 - val_tp: 73.0000 - val_fp: 32.0000 - val_tn: 389.0000 - val_fn: 102.0000 - val_accuracy: 0.7752 - val_precision: 0.6952 - val_recall: 0.4171 - val_auc: 0.7179\n",
      "Epoch 10/40\n",
      "1448/1448 [==============================] - 7s 5ms/step - loss: 0.6745 - tp: 288.0000 - fp: 239.0000 - tn: 523.0000 - fn: 398.0000 - accuracy: 0.5601 - precision: 0.5465 - recall: 0.4198 - auc: 0.5947 - val_loss: 0.6205 - val_tp: 74.0000 - val_fp: 32.0000 - val_tn: 389.0000 - val_fn: 101.0000 - val_accuracy: 0.7768 - val_precision: 0.6981 - val_recall: 0.4229 - val_auc: 0.7489\n",
      "Epoch 11/40\n",
      "1448/1448 [==============================] - 7s 5ms/step - loss: 0.6496 - tp: 336.0000 - fp: 189.0000 - tn: 573.0000 - fn: 350.0000 - accuracy: 0.6278 - precision: 0.6400 - recall: 0.4898 - auc: 0.6580 - val_loss: 0.5958 - val_tp: 83.0000 - val_fp: 42.0000 - val_tn: 379.0000 - val_fn: 92.0000 - val_accuracy: 0.7752 - val_precision: 0.6640 - val_recall: 0.4743 - val_auc: 0.7588\n",
      "Epoch 12/40\n",
      "1448/1448 [==============================] - 7s 5ms/step - loss: 0.6224 - tp: 385.0000 - fp: 213.0000 - tn: 549.0000 - fn: 301.0000 - accuracy: 0.6450 - precision: 0.6438 - recall: 0.5612 - auc: 0.6995 - val_loss: 0.5627 - val_tp: 86.0000 - val_fp: 44.0000 - val_tn: 377.0000 - val_fn: 89.0000 - val_accuracy: 0.7768 - val_precision: 0.6615 - val_recall: 0.4914 - val_auc: 0.8028\n",
      "Epoch 13/40\n",
      "1448/1448 [==============================] - 5s 3ms/step - loss: 0.5869 - tp: 402.0000 - fp: 169.0000 - tn: 593.0000 - fn: 284.0000 - accuracy: 0.6872 - precision: 0.7040 - recall: 0.5860 - auc: 0.7459 - val_loss: 0.5012 - val_tp: 88.0000 - val_fp: 35.0000 - val_tn: 386.0000 - val_fn: 87.0000 - val_accuracy: 0.7953 - val_precision: 0.7154 - val_recall: 0.5029 - val_auc: 0.8313\n",
      "Epoch 14/40\n",
      "1448/1448 [==============================] - 8s 5ms/step - loss: 0.5385 - tp: 475.0000 - fp: 156.0000 - tn: 606.0000 - fn: 211.0000 - accuracy: 0.7465 - precision: 0.7528 - recall: 0.6924 - auc: 0.8115 - val_loss: 0.4446 - val_tp: 117.0000 - val_fp: 42.0000 - val_tn: 379.0000 - val_fn: 58.0000 - val_accuracy: 0.8322 - val_precision: 0.7358 - val_recall: 0.6686 - val_auc: 0.8506\n",
      "Epoch 15/40\n",
      "1448/1448 [==============================] - 8s 5ms/step - loss: 0.4961 - tp: 503.0000 - fp: 135.0000 - tn: 627.0000 - fn: 183.0000 - accuracy: 0.7804 - precision: 0.7884 - recall: 0.7332 - auc: 0.8485 - val_loss: 0.4043 - val_tp: 143.0000 - val_fp: 62.0000 - val_tn: 359.0000 - val_fn: 32.0000 - val_accuracy: 0.8423 - val_precision: 0.6976 - val_recall: 0.8171 - val_auc: 0.8891\n",
      "Epoch 16/40\n",
      "1448/1448 [==============================] - 8s 5ms/step - loss: 0.4077 - tp: 564.0000 - fp: 103.0000 - tn: 659.0000 - fn: 122.0000 - accuracy: 0.8446 - precision: 0.8456 - recall: 0.8222 - auc: 0.9047 - val_loss: 0.3620 - val_tp: 155.0000 - val_fp: 66.0000 - val_tn: 355.0000 - val_fn: 20.0000 - val_accuracy: 0.8557 - val_precision: 0.7014 - val_recall: 0.8857 - val_auc: 0.9135\n",
      "Epoch 17/40\n",
      "1448/1448 [==============================] - 7s 5ms/step - loss: 0.3814 - tp: 576.0000 - fp: 110.0000 - tn: 652.0000 - fn: 110.0000 - accuracy: 0.8481 - precision: 0.8397 - recall: 0.8397 - auc: 0.9150 - val_loss: 0.3232 - val_tp: 149.0000 - val_fp: 53.0000 - val_tn: 368.0000 - val_fn: 26.0000 - val_accuracy: 0.8674 - val_precision: 0.7376 - val_recall: 0.8514 - val_auc: 0.9240\n",
      "Epoch 18/40\n",
      "1448/1448 [==============================] - 7s 5ms/step - loss: 0.3445 - tp: 611.0000 - fp: 85.0000 - tn: 677.0000 - fn: 75.0000 - accuracy: 0.8895 - precision: 0.8779 - recall: 0.8907 - auc: 0.9337 - val_loss: 0.3190 - val_tp: 157.0000 - val_fp: 60.0000 - val_tn: 361.0000 - val_fn: 18.0000 - val_accuracy: 0.8691 - val_precision: 0.7235 - val_recall: 0.8971 - val_auc: 0.9343\n",
      "Epoch 19/40\n",
      "1448/1448 [==============================] - 8s 5ms/step - loss: 0.3267 - tp: 614.0000 - fp: 96.0000 - tn: 666.0000 - fn: 72.0000 - accuracy: 0.8840 - precision: 0.8648 - recall: 0.8950 - auc: 0.9366 - val_loss: 0.2908 - val_tp: 149.0000 - val_fp: 42.0000 - val_tn: 379.0000 - val_fn: 26.0000 - val_accuracy: 0.8859 - val_precision: 0.7801 - val_recall: 0.8514 - val_auc: 0.9367\n",
      "Epoch 20/40\n",
      "1448/1448 [==============================] - 8s 5ms/step - loss: 0.2987 - tp: 613.0000 - fp: 82.0000 - tn: 680.0000 - fn: 73.0000 - accuracy: 0.8930 - precision: 0.8820 - recall: 0.8936 - auc: 0.9481 - val_loss: 0.3083 - val_tp: 162.0000 - val_fp: 62.0000 - val_tn: 359.0000 - val_fn: 13.0000 - val_accuracy: 0.8742 - val_precision: 0.7232 - val_recall: 0.9257 - val_auc: 0.9407\n",
      "Epoch 21/40\n",
      "1448/1448 [==============================] - 8s 5ms/step - loss: 0.2837 - tp: 633.0000 - fp: 84.0000 - tn: 678.0000 - fn: 53.0000 - accuracy: 0.9054 - precision: 0.8828 - recall: 0.9227 - auc: 0.9511 - val_loss: 0.2796 - val_tp: 154.0000 - val_fp: 47.0000 - val_tn: 374.0000 - val_fn: 21.0000 - val_accuracy: 0.8859 - val_precision: 0.7662 - val_recall: 0.8800 - val_auc: 0.9455\n"
     ]
    },
    {
     "name": "stdout",
     "output_type": "stream",
     "text": [
      "Epoch 22/40\n",
      "1448/1448 [==============================] - 8s 5ms/step - loss: 0.2412 - tp: 645.0000 - fp: 64.0000 - tn: 698.0000 - fn: 41.0000 - accuracy: 0.9275 - precision: 0.9097 - recall: 0.9402 - auc: 0.9644 - val_loss: 0.2910 - val_tp: 145.0000 - val_fp: 34.0000 - val_tn: 387.0000 - val_fn: 30.0000 - val_accuracy: 0.8926 - val_precision: 0.8101 - val_recall: 0.8286 - val_auc: 0.9438\n",
      "Epoch 23/40\n",
      "1448/1448 [==============================] - 8s 5ms/step - loss: 0.2433 - tp: 643.0000 - fp: 70.0000 - tn: 692.0000 - fn: 43.0000 - accuracy: 0.9220 - precision: 0.9018 - recall: 0.9373 - auc: 0.9623 - val_loss: 0.3053 - val_tp: 141.0000 - val_fp: 36.0000 - val_tn: 385.0000 - val_fn: 34.0000 - val_accuracy: 0.8826 - val_precision: 0.7966 - val_recall: 0.8057 - val_auc: 0.9438\n",
      "Epoch 24/40\n",
      "1448/1448 [==============================] - 7s 5ms/step - loss: 0.2298 - tp: 644.0000 - fp: 73.0000 - tn: 689.0000 - fn: 42.0000 - accuracy: 0.9206 - precision: 0.8982 - recall: 0.9388 - auc: 0.9659 - val_loss: 0.2827 - val_tp: 146.0000 - val_fp: 35.0000 - val_tn: 386.0000 - val_fn: 29.0000 - val_accuracy: 0.8926 - val_precision: 0.8066 - val_recall: 0.8343 - val_auc: 0.9495\n",
      "Epoch 25/40\n",
      "1448/1448 [==============================] - 7s 5ms/step - loss: 0.2005 - tp: 644.0000 - fp: 61.0000 - tn: 701.0000 - fn: 42.0000 - accuracy: 0.9289 - precision: 0.9135 - recall: 0.9388 - auc: 0.9729 - val_loss: 0.2887 - val_tp: 149.0000 - val_fp: 44.0000 - val_tn: 377.0000 - val_fn: 26.0000 - val_accuracy: 0.8826 - val_precision: 0.7720 - val_recall: 0.8514 - val_auc: 0.9494\n",
      "Epoch 26/40\n",
      "1448/1448 [==============================] - 6s 4ms/step - loss: 0.1738 - tp: 661.0000 - fp: 51.0000 - tn: 711.0000 - fn: 25.0000 - accuracy: 0.9475 - precision: 0.9284 - recall: 0.9636 - auc: 0.9779 - val_loss: 0.3077 - val_tp: 157.0000 - val_fp: 55.0000 - val_tn: 366.0000 - val_fn: 18.0000 - val_accuracy: 0.8775 - val_precision: 0.7406 - val_recall: 0.8971 - val_auc: 0.9489\n",
      "Epoch 27/40\n",
      "1448/1448 [==============================] - 7s 5ms/step - loss: 0.1646 - tp: 657.0000 - fp: 49.0000 - tn: 713.0000 - fn: 29.0000 - accuracy: 0.9461 - precision: 0.9306 - recall: 0.9577 - auc: 0.9801 - val_loss: 0.3298 - val_tp: 142.0000 - val_fp: 33.0000 - val_tn: 388.0000 - val_fn: 33.0000 - val_accuracy: 0.8893 - val_precision: 0.8114 - val_recall: 0.8114 - val_auc: 0.9360\n",
      "Epoch 28/40\n",
      "1448/1448 [==============================] - 8s 5ms/step - loss: 0.1463 - tp: 658.0000 - fp: 44.0000 - tn: 718.0000 - fn: 28.0000 - accuracy: 0.9503 - precision: 0.9373 - recall: 0.9592 - auc: 0.9850 - val_loss: 0.3256 - val_tp: 158.0000 - val_fp: 53.0000 - val_tn: 368.0000 - val_fn: 17.0000 - val_accuracy: 0.8826 - val_precision: 0.7488 - val_recall: 0.9029 - val_auc: 0.9497\n",
      "Epoch 29/40\n",
      "1448/1448 [==============================] - 7s 5ms/step - loss: 0.1479 - tp: 661.0000 - fp: 39.0000 - tn: 723.0000 - fn: 25.0000 - accuracy: 0.9558 - precision: 0.9443 - recall: 0.9636 - auc: 0.9833 - val_loss: 0.3011 - val_tp: 155.0000 - val_fp: 44.0000 - val_tn: 377.0000 - val_fn: 20.0000 - val_accuracy: 0.8926 - val_precision: 0.7789 - val_recall: 0.8857 - val_auc: 0.9463\n",
      "Epoch 30/40\n",
      "1448/1448 [==============================] - 5s 4ms/step - loss: 0.1335 - tp: 667.0000 - fp: 39.0000 - tn: 723.0000 - fn: 19.0000 - accuracy: 0.9599 - precision: 0.9448 - recall: 0.9723 - auc: 0.9878 - val_loss: 0.3245 - val_tp: 163.0000 - val_fp: 57.0000 - val_tn: 364.0000 - val_fn: 12.0000 - val_accuracy: 0.8842 - val_precision: 0.7409 - val_recall: 0.9314 - val_auc: 0.9543\n",
      "Epoch 31/40\n",
      "1448/1448 [==============================] - 8s 5ms/step - loss: 0.1172 - tp: 671.0000 - fp: 35.0000 - tn: 727.0000 - fn: 15.0000 - accuracy: 0.9655 - precision: 0.9504 - recall: 0.9781 - auc: 0.9896 - val_loss: 0.3586 - val_tp: 140.0000 - val_fp: 29.0000 - val_tn: 392.0000 - val_fn: 35.0000 - val_accuracy: 0.8926 - val_precision: 0.8284 - val_recall: 0.8000 - val_auc: 0.9428\n",
      "Epoch 32/40\n",
      "1448/1448 [==============================] - 8s 5ms/step - loss: 0.1315 - tp: 666.0000 - fp: 39.0000 - tn: 723.0000 - fn: 20.0000 - accuracy: 0.9593 - precision: 0.9447 - recall: 0.9708 - auc: 0.9861 - val_loss: 0.3436 - val_tp: 153.0000 - val_fp: 44.0000 - val_tn: 377.0000 - val_fn: 22.0000 - val_accuracy: 0.8893 - val_precision: 0.7766 - val_recall: 0.8743 - val_auc: 0.9414\n",
      "Epoch 33/40\n",
      "1448/1448 [==============================] - 8s 5ms/step - loss: 0.1010 - tp: 665.0000 - fp: 26.0000 - tn: 736.0000 - fn: 21.0000 - accuracy: 0.9675 - precision: 0.9624 - recall: 0.9694 - auc: 0.9924 - val_loss: 0.3631 - val_tp: 154.0000 - val_fp: 49.0000 - val_tn: 372.0000 - val_fn: 21.0000 - val_accuracy: 0.8826 - val_precision: 0.7586 - val_recall: 0.8800 - val_auc: 0.9455\n",
      "Epoch 34/40\n",
      "1448/1448 [==============================] - 5s 4ms/step - loss: 0.0916 - tp: 678.0000 - fp: 26.0000 - tn: 736.0000 - fn: 8.0000 - accuracy: 0.9765 - precision: 0.9631 - recall: 0.9883 - auc: 0.9926 - val_loss: 0.3693 - val_tp: 156.0000 - val_fp: 53.0000 - val_tn: 368.0000 - val_fn: 19.0000 - val_accuracy: 0.8792 - val_precision: 0.7464 - val_recall: 0.8914 - val_auc: 0.9458\n",
      "Epoch 35/40\n",
      "1448/1448 [==============================] - 8s 5ms/step - loss: 0.0639 - tp: 679.0000 - fp: 17.0000 - tn: 745.0000 - fn: 7.0000 - accuracy: 0.9834 - precision: 0.9756 - recall: 0.9898 - auc: 0.9958 - val_loss: 0.3833 - val_tp: 154.0000 - val_fp: 43.0000 - val_tn: 378.0000 - val_fn: 21.0000 - val_accuracy: 0.8926 - val_precision: 0.7817 - val_recall: 0.8800 - val_auc: 0.9400\n",
      "Epoch 36/40\n",
      "1448/1448 [==============================] - 7s 5ms/step - loss: 0.0827 - tp: 670.0000 - fp: 26.0000 - tn: 736.0000 - fn: 16.0000 - accuracy: 0.9710 - precision: 0.9626 - recall: 0.9767 - auc: 0.9944 - val_loss: 0.4395 - val_tp: 145.0000 - val_fp: 35.0000 - val_tn: 386.0000 - val_fn: 30.0000 - val_accuracy: 0.8909 - val_precision: 0.8056 - val_recall: 0.8286 - val_auc: 0.9266\n",
      "Epoch 37/40\n",
      "1448/1448 [==============================] - 8s 5ms/step - loss: 0.0743 - tp: 673.0000 - fp: 20.0000 - tn: 742.0000 - fn: 13.0000 - accuracy: 0.9772 - precision: 0.9711 - recall: 0.9810 - auc: 0.9948 - val_loss: 0.5720 - val_tp: 121.0000 - val_fp: 23.0000 - val_tn: 398.0000 - val_fn: 54.0000 - val_accuracy: 0.8708 - val_precision: 0.8403 - val_recall: 0.6914 - val_auc: 0.9096\n",
      "Epoch 38/40\n",
      "1448/1448 [==============================] - 7s 5ms/step - loss: 0.0840 - tp: 668.0000 - fp: 17.0000 - tn: 745.0000 - fn: 18.0000 - accuracy: 0.9758 - precision: 0.9752 - recall: 0.9738 - auc: 0.9937 - val_loss: 0.4348 - val_tp: 155.0000 - val_fp: 49.0000 - val_tn: 372.0000 - val_fn: 20.0000 - val_accuracy: 0.8842 - val_precision: 0.7598 - val_recall: 0.8857 - val_auc: 0.9388\n",
      "Epoch 39/40\n",
      "1448/1448 [==============================] - 7s 5ms/step - loss: 0.0574 - tp: 677.0000 - fp: 17.0000 - tn: 745.0000 - fn: 9.0000 - accuracy: 0.9820 - precision: 0.9755 - recall: 0.9869 - auc: 0.9969 - val_loss: 0.4734 - val_tp: 152.0000 - val_fp: 45.0000 - val_tn: 376.0000 - val_fn: 23.0000 - val_accuracy: 0.8859 - val_precision: 0.7716 - val_recall: 0.8686 - val_auc: 0.9342\n",
      "Epoch 40/40\n",
      "1448/1448 [==============================] - 7s 5ms/step - loss: 0.0546 - tp: 682.0000 - fp: 13.0000 - tn: 749.0000 - fn: 4.0000 - accuracy: 0.9883 - precision: 0.9813 - recall: 0.9942 - auc: 0.9966 - val_loss: 0.4680 - val_tp: 145.0000 - val_fp: 32.0000 - val_tn: 389.0000 - val_fn: 30.0000 - val_accuracy: 0.8960 - val_precision: 0.8192 - val_recall: 0.8286 - val_auc: 0.9339\n"
     ]
    }
   ],
   "source": [
    "history = model.fit(X, Y, epochs = 40,\n",
    "                    validation_data = (x_val, y_val)\n",
    "                   )"
   ]
  },
  {
   "cell_type": "markdown",
   "metadata": {},
   "source": [
    "### Model evaluation\n",
    "Evaluating the model on the 15% test data that we separated earlier and has not been seen by the model. The result gives us an estimate of how well the model will perform on new data."
   ]
  },
  {
   "cell_type": "code",
   "execution_count": 14,
   "metadata": {},
   "outputs": [
    {
     "name": "stdout",
     "output_type": "stream",
     "text": [
      "351/351 [==============================] - 0s 311us/step\n",
      "[0.417680236943427, 88.0, 13.0, 235.0, 15.0, 0.9202279448509216, 0.8712871074676514, 0.8543689250946045, 0.932665228843689]\n"
     ]
    }
   ],
   "source": [
    "print(model.evaluate(x_test, y_test))"
   ]
  },
  {
   "cell_type": "markdown",
   "metadata": {},
   "source": [
    "### Classification report\n",
    "It  shows how well the model performs for each class. We're interested in the measures for 1 and the overall accuracy. Definitions:\n",
    "* Precision = What proportion of positive identifications was actually correct\n",
    "* Recall = What proportion of actual positives was identified correctly\n",
    "* F1-score = The combination of both precision and recall"
   ]
  },
  {
   "cell_type": "code",
   "execution_count": 15,
   "metadata": {},
   "outputs": [],
   "source": [
    "def plot_cm(labels, predictions, p=0.5):\n",
    "  cm = confusion_matrix(labels, predictions > p)\n",
    "  plt.figure(figsize=(5,5))\n",
    "  sns.heatmap(cm, annot=True, fmt=\"d\")\n",
    "  plt.title('Confusion matrix @{:.2f}'.format(p))\n",
    "  plt.ylabel('Actual label')\n",
    "  plt.xlabel('Predicted label')\n",
    "\n",
    "  print('Legitimate Transactions Detected (True Negatives): ', cm[0][0])\n",
    "  print('Legitimate Transactions Incorrectly Detected (False Positives): ', cm[0][1])\n",
    "  print('Fraudulent Transactions Missed (False Negatives): ', cm[1][0])\n",
    "  print('Fraudulent Transactions Detected (True Positives): ', cm[1][1])\n",
    "  print('Total Fraudulent Transactions: ', np.sum(cm[1]))"
   ]
  },
  {
   "cell_type": "code",
   "execution_count": 16,
   "metadata": {},
   "outputs": [
    {
     "name": "stdout",
     "output_type": "stream",
     "text": [
      "351/351 [==============================] - 0s 277us/step\n",
      "loss :  0.417680236943427\n",
      "tp :  88.0\n",
      "fp :  13.0\n",
      "tn :  235.0\n",
      "fn :  15.0\n",
      "accuracy :  0.9202279448509216\n",
      "precision :  0.8712871074676514\n",
      "recall :  0.8543689250946045\n",
      "auc :  0.932665228843689\n",
      "\n",
      "Legitimate Transactions Detected (True Negatives):  235\n",
      "Legitimate Transactions Incorrectly Detected (False Positives):  13\n",
      "Fraudulent Transactions Missed (False Negatives):  15\n",
      "Fraudulent Transactions Detected (True Positives):  88\n",
      "Total Fraudulent Transactions:  103\n"
     ]
    },
    {
     "data": {
      "image/png": "[encoded data removed]",
      "text/plain": [
       "<Figure size 360x360 with 2 Axes>"
      ]
     },
     "metadata": {
      "needs_background": "light"
     },
     "output_type": "display_data"
    }
   ],
   "source": [
    "test_predictions_baseline = model.predict_classes(x_test)\n",
    "baseline_results = model.evaluate(x_test, y_test)\n",
    "for name, value in zip(model.metrics_names, baseline_results):\n",
    "  print(name, ': ', value)\n",
    "print()\n",
    "\n",
    "plot_cm(y_test, test_predictions_baseline)"
   ]
  },
  {
   "cell_type": "markdown",
   "metadata": {},
   "source": [
    "### Plotting the training and validation accuracy and loss. \n",
    "The goal is to maximize accuracy by minimizing the loss. Training and validation accuracy need to go in one direction and with similar slope. This means the model is training well and the validation data is actually used to improve the training.\n",
    "* While training accuracy increases, validation accuracy stays the same or increases just slightly. This indicates that the model is 'memorizing' more and more the training data but that does not affect how well it might do on new data. The point where the lines cross generally indicates the expected accuracy on new data\n",
    "* We can notice a similar but inversed pattern for the training and validation loss functions. While the training loss improves, the validation loss actually starts to increase after ~0.30. This does not mean that the model is becoming worse after that point but rather that it \"is less sure about the prediction even if it's true\"\n",
    "These patterns indicate that the data we're using for training is just not enough for good accuracy (closer to 100%), even with data augmentation."
   ]
  },
  {
   "cell_type": "code",
   "execution_count": 17,
   "metadata": {},
   "outputs": [
    {
     "data": {
      "image/png": "[encoded data removed]",
      "text/plain": [
       "<Figure size 432x288 with 1 Axes>"
      ]
     },
     "metadata": {
      "needs_background": "light"
     },
     "output_type": "display_data"
    },
    {
     "data": {
      "image/png": "[encoded data removed]",
      "text/plain": [
       "<Figure size 432x288 with 1 Axes>"
      ]
     },
     "metadata": {
      "needs_background": "light"
     },
     "output_type": "display_data"
    }
   ],
   "source": [
    "acc = history.history['accuracy']\n",
    "val_acc = history.history['val_accuracy']\n",
    "loss = history.history['loss']\n",
    "val_loss = history.history['val_loss']\n",
    "epochs = range(len(acc))\n",
    "plt.plot(epochs, acc, '-', color='orange', label='training acc')\n",
    "plt.plot(epochs, val_acc, '-', color='blue', label='validation acc')\n",
    "plt.title('Training and validation accuracy')\n",
    "plt.legend()\n",
    "plt.show()\n",
    "\n",
    "plt.plot(epochs, loss, '-', color='orange', label='training loss')\n",
    "plt.plot(epochs, val_loss,  '-', color='blue', label='validation loss')\n",
    "plt.title('Training and validation loss')\n",
    "plt.legend()\n",
    "plt.show()"
   ]
  },
  {
   "cell_type": "code",
   "execution_count": 19,
   "metadata": {},
   "outputs": [],
   "source": [
    "#Saving the model locally\n",
    "model.save('40ep-092acc-085pre-086rec-086f1_2.h5')"
   ]
  },
  {
   "cell_type": "markdown",
   "metadata": {},
   "source": [
    "### Plot additional metrics\n",
    "Below we define a function that plots loss, AUC, precision and recall"
   ]
  },
  {
   "cell_type": "code",
   "execution_count": 20,
   "metadata": {},
   "outputs": [],
   "source": [
    "colors = plt.rcParams['axes.prop_cycle'].by_key()['color']\n",
    "plt.rcParams['figure.figsize'] = [15, 10]\n",
    "def plot_metrics(history):\n",
    "  metrics =  ['loss', 'auc', 'precision', 'recall']\n",
    "  for n, metric in enumerate(metrics):\n",
    "    name = metric.replace(\"_\",\" \").capitalize()\n",
    "    plt.subplot(2,2,n+1)\n",
    "    plt.plot(history.epoch,  history.history[metric], color=colors[0], label='Train')\n",
    "    plt.plot(history.epoch, history.history['val_'+metric],\n",
    "             color=colors[0], linestyle=\"--\", label='Val')\n",
    "    plt.xlabel('Epoch')\n",
    "    plt.ylabel(name)\n",
    "    if metric == 'loss':\n",
    "      plt.ylim([0, plt.ylim()[1]])\n",
    "    elif metric == 'auc':\n",
    "      plt.ylim([0.8,1])\n",
    "    else:\n",
    "      plt.ylim([0,1])\n",
    "\n",
    "    plt.legend()"
   ]
  },
  {
   "cell_type": "code",
   "execution_count": 21,
   "metadata": {},
   "outputs": [
    {
     "data": {
      "image/png": "[encoded data removed]",
      "text/plain": [
       "<Figure size 1080x720 with 4 Axes>"
      ]
     },
     "metadata": {
      "needs_background": "light"
     },
     "output_type": "display_data"
    }
   ],
   "source": [
    "plot_metrics(history)"
   ]
  },
  {
   "cell_type": "code",
   "execution_count": 25,
   "metadata": {},
   "outputs": [],
   "source": [
    "import keras_metrics as km"
   ]
  },
  {
   "cell_type": "markdown",
   "metadata": {},
   "source": [
    "### Loading the model\n",
    "The below code loads the model from a local file that is in the same directory. If it somewhere else, you need to specify the path. After that, you are able to call its .predict or .predict_classes methods as usual."
   ]
  },
  {
   "cell_type": "code",
   "execution_count": 35,
   "metadata": {},
   "outputs": [],
   "source": [
    "model = keras.models.load_model('40ep-092acc-085pre-086rec-086f1.h5', compile = False)"
   ]
  },
  {
   "cell_type": "code",
   "execution_count": 36,
   "metadata": {},
   "outputs": [],
   "source": [
    "METRICS = [\n",
    "      keras.metrics.TruePositives(name='tp'),\n",
    "      keras.metrics.FalsePositives(name='fp'),\n",
    "      keras.metrics.TrueNegatives(name='tn'),\n",
    "      keras.metrics.FalseNegatives(name='fn'), \n",
    "      keras.metrics.BinaryAccuracy(name='accuracy'),\n",
    "      keras.metrics.Precision(name='precision'),\n",
    "      keras.metrics.Recall(name='recall'),\n",
    "      keras.metrics.AUC(name='auc'),\n",
    "]\n",
    "\n",
    "model.compile(optimizer = keras.optimizers.Adam(learning_rate=1e-4),\n",
    "              loss = 'binary_crossentropy',\n",
    "              metrics = METRICS\n",
    "             )"
   ]
  },
  {
   "cell_type": "code",
   "execution_count": 37,
   "metadata": {},
   "outputs": [
    {
     "name": "stdout",
     "output_type": "stream",
     "text": [
      "351/351 [==============================] - 0s 852us/step\n",
      "loss :  0.417680236943427\n",
      "tp :  88.0\n",
      "fp :  13.0\n",
      "tn :  235.0\n",
      "fn :  15.0\n",
      "accuracy :  0.9202279448509216\n",
      "precision :  0.8712871074676514\n",
      "recall :  0.8543689250946045\n",
      "auc :  0.932665228843689\n",
      "\n",
      "Legitimate Transactions Detected (True Negatives):  235\n",
      "Legitimate Transactions Incorrectly Detected (False Positives):  13\n",
      "Fraudulent Transactions Missed (False Negatives):  15\n",
      "Fraudulent Transactions Detected (True Positives):  88\n",
      "Total Fraudulent Transactions:  103\n"
     ]
    },
    {
     "data": {
      "image/png": "[encoded data removed]",
      "text/plain": [
       "<Figure size 360x360 with 2 Axes>"
      ]
     },
     "metadata": {
      "needs_background": "light"
     },
     "output_type": "display_data"
    }
   ],
   "source": [
    "# Generate the same classification report and confusion matrix as above to confirm the model was loaded and evaluated\n",
    "# successfully\n",
    "test_predictions_baseline = model.predict_classes(x_test)\n",
    "baseline_results = model.evaluate(x_test, y_test)\n",
    "for name, value in zip(model.metrics_names, baseline_results):\n",
    "  print(name, ': ', value)\n",
    "print()\n",
    "\n",
    "plot_cm(y_test, test_predictions_baseline)"
   ]
  },
  {
   "cell_type": "markdown",
   "metadata": {},
   "source": [
    "### Output file\n",
    "We're using the previously stored names of proteins and compounds x_test_names (we create this data in the beginning where we set it aside from the training data). To that data we append the predicted classes from the model, their probabilities and actual class.\n",
    "\n",
    "This sequence can be used with a new dataset as well. It just needs to be loaded as a pandas dataframe."
   ]
  },
  {
   "cell_type": "code",
   "execution_count": 38,
   "metadata": {},
   "outputs": [
    {
     "name": "stdout",
     "output_type": "stream",
     "text": [
      "             0            1282  Prediction  Probabilities  True label\n",
      "256    6435415     PGFRB_HUMAN           0   8.544177e-12           0\n",
      "626      65016      CATD_HUMAN           0   1.385337e-06           0\n",
      "1983   5281040          6LU7:A           1   9.946743e-01           1\n",
      "609      10239     CAC1A_HUMAN           0   9.823133e-03           0\n",
      "837      68827     CP3A7_HUMAN           0   1.459214e-04           0\n",
      "...        ...             ...         ...            ...         ...\n",
      "2002    446541    Q5K672_HUMAN           1   9.991989e-01           1\n",
      "980   54675769    Q96PP0_HUMAN           0   1.911860e-08           0\n",
      "644     151075      JAK2_HUMAN           0   1.337213e-07           0\n",
      "1821      5291     ACVL1_HUMAN           1   9.996686e-01           1\n",
      "1803     42890  YP_009725307.1           1   9.747351e-01           1\n",
      "\n",
      "[351 rows x 5 columns]\n"
     ]
    }
   ],
   "source": [
    "x_test_names['Prediction'] = model.predict_classes(x_test)\n",
    "x_test_names['Probabilities'] = model.predict_proba(x_test)\n",
    "x_test_names['True label'] = y_test\n",
    "print(x_test_names)\n",
    "x_test_names.to_csv('predictions1.csv')"
   ]
  }
 ],
 "metadata": {
  "kernelspec": {
   "display_name": "Python 3",
   "language": "python",
   "name": "python3"
  },
  "language_info": {
   "codemirror_mode": {
    "name": "ipython",
    "version": 3
   },
   "file_extension": ".py",
   "mimetype": "text/x-python",
   "name": "python",
   "nbconvert_exporter": "python",
   "pygments_lexer": "ipython3",
   "version": "3.7.6rc1"
  }
 },
 "nbformat": 4,
 "nbformat_minor": 2
}
